{
  "cells": [
    {
      "cell_type": "markdown",
      "metadata": {
        "id": "view-in-github",
        "colab_type": "text"
      },
      "source": [
        "<a href=\"https://colab.research.google.com/github/MNaseerAKhan/Basics-of-Python--AI-Python-for-Beginners-by-Andrew-NG/blob/main/Copy_of_Lesson_9.ipynb\" target=\"_parent\"><img src=\"https://colab.research.google.com/assets/colab-badge.svg\" alt=\"Open In Colab\"/></a>"
      ]
    },
    {
      "cell_type": "markdown",
      "id": "817221c9",
      "metadata": {
        "id": "817221c9"
      },
      "source": [
        "# L9: Building LLM prompts with variables"
      ]
    },
    {
      "cell_type": "markdown",
      "id": "36029c06",
      "metadata": {
        "id": "36029c06"
      },
      "source": [
        "In the next cell, you will import the function `print_llm_response` that uses an LLM with an instruction that you provide as a string and displays the result."
      ]
    },
    {
      "cell_type": "markdown",
      "id": "Y-ATE80jhRkX",
      "metadata": {
        "id": "Y-ATE80jhRkX"
      },
      "source": [
        "### Download helper_function.py\n",
        "* pls set Secrets Variable for Gemini in Collab\n",
        "* `GEMINI_API_KEY`\n",
        "\n",
        "[Get API KEY From Google AI Studio](https://aistudio.google.com/app/apikey)"
      ]
    },
    {
      "cell_type": "code",
      "execution_count": null,
      "id": "XKKbMtxtg693",
      "metadata": {
        "colab": {
          "base_uri": "https://localhost:8080/"
        },
        "id": "XKKbMtxtg693",
        "outputId": "13f14981-a72d-45cd-abd9-e5c5dab87857"
      },
      "outputs": [
        {
          "output_type": "stream",
          "name": "stdout",
          "text": [
            "  % Total    % Received % Xferd  Average Speed   Time    Time     Time  Current\n",
            "                                 Dload  Upload   Total   Spent    Left  Speed\n",
            "100  3944  100  3944    0     0  19380      0 --:--:-- --:--:-- --:--:-- 19428\n"
          ]
        }
      ],
      "source": [
        "!curl -o helper_functions.py https://raw.githubusercontent.com/panaversity/learn-cloud-native-modern-ai-python/main/07_natural_language_programming/02_ai_python_for_beginners/course1_basics/Lesson_9/helper_functions.py"
      ]
    },
    {
      "cell_type": "code",
      "execution_count": null,
      "id": "cc237f34",
      "metadata": {
        "id": "cc237f34"
      },
      "outputs": [],
      "source": [
        "from helper_functions import print_llm_response"
      ]
    },
    {
      "cell_type": "code",
      "source": [
        "print_llm_response(\"What is the capital of Sindh province of Pakistan?\")"
      ],
      "metadata": {
        "id": "1ytDHJiiNIM1",
        "outputId": "4700b6a1-ffcc-445e-d568-821b50f01a11",
        "colab": {
          "base_uri": "https://localhost:8080/",
          "height": 52
        }
      },
      "id": "1ytDHJiiNIM1",
      "execution_count": null,
      "outputs": [
        {
          "output_type": "stream",
          "name": "stdout",
          "text": [
            "The capital of Sindh province in Pakistan is **Karachi**. \n",
            "\n"
          ]
        }
      ]
    },
    {
      "cell_type": "markdown",
      "id": "3074c1f9",
      "metadata": {
        "id": "3074c1f9"
      },
      "source": [
        "Basically, you can use that function as if you were asking a chatbot. You just need to provide your instructions as a string. For instance, you can ask \"What is the capital of France?\" using the following code:"
      ]
    },
    {
      "cell_type": "code",
      "execution_count": null,
      "id": "afcf6686",
      "metadata": {
        "colab": {
          "base_uri": "https://localhost:8080/",
          "height": 52
        },
        "id": "afcf6686",
        "outputId": "a70043c2-4555-46e5-97ee-b87d4cb6465c"
      },
      "outputs": [
        {
          "output_type": "stream",
          "name": "stdout",
          "text": [
            "The capital of Italy is **Rome**. \n",
            "\n"
          ]
        }
      ],
      "source": [
        "print_llm_response(\"What is the capital of Italy?\")"
      ]
    },
    {
      "cell_type": "markdown",
      "id": "7e164d69",
      "metadata": {
        "id": "7e164d69"
      },
      "source": [
        "Let's ask the LLM for the lifestyle description for Otto Matic, whose name is stored in `name`, if he were a `dog_age` years old dog."
      ]
    },
    {
      "cell_type": "code",
      "execution_count": null,
      "id": "196644ca",
      "metadata": {
        "id": "196644ca"
      },
      "outputs": [],
      "source": [
        "name : str = \"Otto Matic\"\n",
        "dog_age : float  = 21/7"
      ]
    },
    {
      "cell_type": "code",
      "execution_count": null,
      "id": "ad18f441",
      "metadata": {
        "colab": {
          "base_uri": "https://localhost:8080/",
          "height": 251
        },
        "id": "ad18f441",
        "outputId": "cdce55a0-ae3e-4998-80e7-0672dd1f820f"
      },
      "outputs": [
        {
          "name": "stdout",
          "output_type": "stream",
          "text": [
            "If Otto Matic were a dog, being 3.0 years old would put him squarely in his **early adulthood** stage. This is a time of peak physical and mental maturity for most dogs. \n",
            "\n",
            "Here's what this might entail:\n",
            "\n",
            "**Energy Level:** While still energetic, a 3-year-old dog might have slightly calmed down from the boundless energy of a puppy. They'll likely still enjoy long walks and playtime, but might be more content with a shorter nap afterwards. \n",
            "\n",
            "**Interests:** This age is often a time of exploration and discovery for dogs. Otto may develop strong interests in particular toys or games, become more interested in exploring his surroundings, or show a new passion for learning tricks. \n",
            "\n",
            "**Behavior:**  At 3, Otto would be a confident and independent dog. He's likely well-trained and understands his place in the pack. He might be more relaxed and less prone to destructive chewing or excessive barking.  However, he may also be more prone to testing boundaries and displaying stubbornness. This stage is often referred to as the \"teenager\" phase for dogs!\n",
            "\n",
            "**Overall, 3-year-old dogs are often at their best. They are full of life, eager to learn and play, and have a newfound independence. It's a wonderful stage for bonding and enjoying all the joy your furry companion has to offer!** \n",
            "\n"
          ]
        }
      ],
      "source": [
        "print_llm_response(f\"\"\"If {name} were a dog, he would be {dog_age} years old.\n",
        "Describe what life stage that would be for a dog and what that might\n",
        "entail in terms of energy level, interests, and behavior.\"\"\")"
      ]
    },
    {
      "cell_type": "code",
      "source": [
        "name : str = \"Splendid\"\n",
        "age : float  = 21/7"
      ],
      "metadata": {
        "id": "q5cvNHnVN7SL"
      },
      "id": "q5cvNHnVN7SL",
      "execution_count": null,
      "outputs": []
    },
    {
      "cell_type": "code",
      "source": [
        "print_llm_response(f\"\"\" {name} were on pluto, he would be {age} years old.\n",
        "Describe what life stage that would be for a dog and what that might\n",
        "entail in terms of energy level, interests, and behavior on pluto lanet.\"\"\")"
      ],
      "metadata": {
        "id": "-OSRRAxvON40",
        "outputId": "086c336f-2892-4b03-b23a-856f7e429efc",
        "colab": {
          "base_uri": "https://localhost:8080/",
          "height": 610
        }
      },
      "id": "-OSRRAxvON40",
      "execution_count": null,
      "outputs": [
        {
          "output_type": "stream",
          "name": "stdout",
          "text": [
            "This is a fun thought experiment! Let's break down what a 3-year-old dog on Pluto might be like:\n",
            "\n",
            "**Dog Life Stage:**\n",
            "\n",
            "* **Young Adulthood:** At 3 years old, a dog on Pluto would be considered a young adult. This is a time of peak physical and mental development.\n",
            "\n",
            "**Energy Level:**\n",
            "\n",
            "* **Still Playful, But More Controlled:** While still energetic, they might be a bit more mellow than a puppy. They'd likely enjoy playtime, but would also be happy to relax and observe their surroundings. \n",
            "* **Pluto's Low Gravity:** With Pluto's lower gravity, this dog might be more prone to bursts of playful leaps and bounds! Imagine them soaring through the thin atmosphere, feeling lighter than air.\n",
            "\n",
            "**Interests:**\n",
            "\n",
            "* **Exploration:** Pluto's icy landscape would offer a unique playground. This dog might be fascinated by the frozen craters, nitrogen glaciers, and mountains of water ice.\n",
            "* **Scents:** The thin atmosphere would allow smells to travel far, so this dog would likely be a master scent tracker, sniffing out the hidden wonders of Pluto.\n",
            "* **Companionship:** With likely no other dogs around, this dog would be fiercely loyal to their human companion, seeking out their warmth and attention.\n",
            "\n",
            "**Behavior:**\n",
            "\n",
            "* **Curiosity and Independence:**  This dog would be constantly exploring, investigating new sights and sounds, and venturing into the frozen wilderness of Pluto. \n",
            "* **Adaptability:**  The dog would need to be adaptable, able to tolerate the extreme temperatures and low light conditions of Pluto.\n",
            "* **Resourcefulness:** Pluto's harsh environment would necessitate resourcefulness. The dog would need to be able to find shelter and food, or rely on their human companion for those resources. \n",
            "\n",
            "**Challenges:**\n",
            "\n",
            "* **Oxygen:** The lack of a significant atmosphere would make breathing extremely challenging.  The dog would need a special suit or other adaptations to survive.\n",
            "* **Temperature:** Pluto's frigid temperatures (-391 degrees Fahrenheit on average) would be deadly. The dog would need to be kept warm with specialized clothing or housed in a heated environment.\n",
            "* **Radiation:** Pluto's thin atmosphere provides little protection from solar radiation. The dog would be exposed to harmful levels of radiation, requiring shielding.\n",
            "\n",
            "**Conclusion:**\n",
            "\n",
            "While a dog on Pluto presents a delightful thought experiment, the realities of the planet's environment make it impossible for any earthly creature to survive without significant modifications. However, imagining the dog's playful leaps in the low gravity, its adventurous spirit exploring the icy landscape, and its loyalty to its human companion makes for an intriguing and endearing picture. \n",
            "\n"
          ]
        }
      ]
    },
    {
      "cell_type": "markdown",
      "id": "8349cb53",
      "metadata": {
        "id": "8349cb53"
      },
      "source": [
        "<b>You just used AI with your own variables!</b> You used an LLM with instructions that included variables you defined in this notebook.\n",
        "\n",
        "<b>Congratulations 🎉🎉🎉</b>"
      ]
    },
    {
      "cell_type": "markdown",
      "id": "51181411",
      "metadata": {
        "id": "51181411"
      },
      "source": [
        "## Variable names restrictions"
      ]
    },
    {
      "cell_type": "markdown",
      "id": "89d94522",
      "metadata": {
        "id": "89d94522"
      },
      "source": [
        "The following variable names also have some problems. Try to fix them yourself or use the help from the chatbot."
      ]
    },
    {
      "cell_type": "code",
      "execution_count": null,
      "id": "af96e951",
      "metadata": {
        "id": "af96e951"
      },
      "outputs": [],
      "source": [
        "driver : str = \"unicorn\"\n",
        "drivers_vehicle : str = \"colorful, asymmetric dinosaur car\"\n",
        "favorite_planet : str = \"Pluto\"\n"
      ]
    },
    {
      "cell_type": "markdown",
      "id": "59a3a881",
      "metadata": {
        "id": "59a3a881"
      },
      "source": [
        "Now, update the next cell with any changes you made in the previous cell."
      ]
    },
    {
      "cell_type": "code",
      "execution_count": null,
      "id": "02b7e02c",
      "metadata": {
        "colab": {
          "base_uri": "https://localhost:8080/",
          "height": 315
        },
        "id": "02b7e02c",
        "outputId": "08e80404-8c11-436c-d346-80044ac5a05d"
      },
      "outputs": [
        {
          "output_type": "stream",
          "name": "stdout",
          "text": [
            "Sparkle the unicorn was a blur of white and rainbows, his horn shining like a beacon as he charged down the track. He was racing for the Pluto Champion Cup, and his opponent was no ordinary racer: a bright, asymmetrical dinosaur car named Rex.\n",
            "\n",
            "Rex was a mishmash of colors, with a mismatched set of wheels and a tail that acted as a booster. He honked his horn, a cheerful toot that sounded like a dinosaur sneeze.\n",
            "\n",
            "The crowd roared as the race began. Sparkle kicked up his hooves, his magical powers giving him an extra burst of speed. Rex, on the other hand, used his quirky design to his advantage, weaving through the track like a playful puppy.\n",
            "\n",
            "They were neck and neck, their speeds a whirlwind of color and glitter. Sparkle's horn pulsed with light, illuminating the track, while Rex's mismatched wheels spun at dizzying speeds.\n",
            "\n",
            "Just as the finish line came into view, Rex's booster tail ignited, propelling him forward with a burst of pink flames. Sparkle, ever the competitor, gave a mighty leap, his horn glowing brighter than ever.\n",
            "\n",
            "The crowd held its breath as they crossed the finish line simultaneously. It was a tie!\n",
            "\n",
            "The judges, a panel of fluffy bunnies, looked at each other in confusion. Then, they announced, \"A tie is a win! Both Sparkle and Rex are champions!\"\n",
            "\n",
            "Sparkle and Rex, exhausted but exhilarated, bumped horns, their victory a testament to their unique strengths and their love of racing. The crowd cheered, celebrating the unlikely duo that had brought joy and excitement to the Pluto Champion Cup. \n",
            "\n"
          ]
        }
      ],
      "source": [
        "print_llm_response(f\"\"\"Write me a 300 word children's story about a {driver} racing\n",
        "a {drivers_vehicle} for the {favorite_planet} champion cup.\"\"\")"
      ]
    },
    {
      "cell_type": "markdown",
      "id": "98ec7de7",
      "metadata": {
        "id": "98ec7de7"
      },
      "source": [
        "## Extra practice\n",
        "\n",
        "Try the exercises below to practice the concepts from this lesson. Read the comments in each cell with the instructions for each exercise.\n",
        "\n",
        "<b>Feel free to use the chatbot if you need help.</b>"
      ]
    },
    {
      "cell_type": "code",
      "execution_count": null,
      "id": "9fb2bd26",
      "metadata": {
        "colab": {
          "base_uri": "https://localhost:8080/"
        },
        "id": "9fb2bd26",
        "outputId": "60e5fea7-b20a-4a95-e26c-35a1871fc6bc"
      },
      "outputs": [
        {
          "output_type": "stream",
          "name": "stdout",
          "text": [
            "My most favorite book is 1001 Ways to Wear a Hat, but I also like 2002 Ways to Wear a Scarf\n"
          ]
        }
      ],
      "source": [
        "# Fix this code\n",
        "first_fav_book: str = \"1001 Ways to Wear a Hat\"\n",
        "second_fav_book: str = \"2002 Ways to Wear a Scarf\"\n",
        "print(f\"My most favorite book is {first_fav_book}, but I also like {second_fav_book}\")"
      ]
    },
    {
      "cell_type": "code",
      "execution_count": null,
      "id": "407023e6",
      "metadata": {
        "id": "407023e6"
      },
      "outputs": [],
      "source": [
        "# Make variables for your favorite game, movie, and food.\n",
        "# Then use print_llm_response to ask the LLM to recommend you\n",
        "# a new song to listen to based on your likes.\n",
        "my_fav_game : str = \"football\"\n",
        "my_fav_movie : str = \"top Gun\"\n",
        "my_fav_food : str = \"pizza\""
      ]
    },
    {
      "cell_type": "code",
      "execution_count": null,
      "id": "fr-mvndppVGH",
      "metadata": {
        "id": "fr-mvndppVGH",
        "outputId": "24ae6a79-d469-4720-ed1a-367f048b8cba",
        "colab": {
          "base_uri": "https://localhost:8080/",
          "height": 558
        }
      },
      "outputs": [
        {
          "output_type": "stream",
          "name": "stdout",
          "text": [
            "Based on your interests, here are a few song recommendations:\n",
            "\n",
            "**For the Football Fan:**\n",
            "\n",
            "* **\"We Will Rock You\" by Queen:** This is a classic stadium anthem, perfect for getting pumped up before a game.\n",
            "* **\"Glory Days\" by Bruce Springsteen:** A nostalgic and powerful song about remembering your best days.\n",
            "* **\"Livin' on a Prayer\" by Bon Jovi:** This high-energy anthem is sure to get you moving.\n",
            "\n",
            "**For the Top Gun Fan:**\n",
            "\n",
            "* **\"Danger Zone\" by Kenny Loggins:** This iconic song from the original Top Gun movie is sure to get you in the mood for some high-flying action.\n",
            "* **\"Take My Breath Away\" by Berlin:** A romantic and powerful ballad, perfect for a dramatic moment.\n",
            "* **\"Top Gun Anthem\" by Harold Faltermeyer:** This classic instrumental theme song is instantly recognizable and perfect for a nostalgic feel.\n",
            "\n",
            "**For the Pizza Lover:**\n",
            "\n",
            "* **\"Pizza My Heart\" by Lady Gaga:** A fun and quirky song about love for pizza.\n",
            "* **\"Pizza\" by The Donkeys:** A simple but catchy song about the joy of pizza.\n",
            "* **\"Slice of Life\" by The Rolling Stones:** While not explicitly about pizza, this song has a laid-back, fun vibe that matches the enjoyment of a good slice.\n",
            "\n",
            "**For the Combination of Interests:**\n",
            "\n",
            "* **\"You Give Love a Bad Name\" by Bon Jovi:** This classic rock anthem has a powerful and energetic vibe, perfect for celebrating a win on the field or enjoying a slice of pizza with friends.\n",
            "* **\"Don't Stop Believin'\" by Journey:** This anthem about never giving up could be perfect for a game day or a night out after a great movie.\n",
            "* **\"Sweet Caroline\" by Neil Diamond:** This fun and singalong song is perfect for celebrating with friends and family, whether at a football game or a pizza party.\n",
            "\n",
            "Ultimately, the best song for you will depend on your specific mood and preferences. \n",
            "\n",
            "**I recommend checking out these artists and songs and seeing what you like best!** \n",
            "\n"
          ]
        }
      ],
      "source": [
        "print_llm_response(f\"\"\"I love playing {my_fav_game}, enjoy watching {my_fav_movie} in cinema and love eating {my_fav_food}. Based on my likes can you recommend me a song to listen\"\"\")"
      ]
    }
  ],
  "metadata": {
    "colab": {
      "provenance": [],
      "include_colab_link": true
    },
    "kernelspec": {
      "display_name": "Python 3 (ipykernel)",
      "language": "python",
      "name": "python3"
    },
    "language_info": {
      "codemirror_mode": {
        "name": "ipython",
        "version": 3
      },
      "file_extension": ".py",
      "mimetype": "text/x-python",
      "name": "python",
      "nbconvert_exporter": "python",
      "pygments_lexer": "ipython3",
      "version": "3.9.19"
    }
  },
  "nbformat": 4,
  "nbformat_minor": 5
}