{
  "cells": [
    {
      "cell_type": "markdown",
      "metadata": {
        "id": "view-in-github",
        "colab_type": "text"
      },
      "source": [
        "<a href=\"https://colab.research.google.com/github/MNaseerAKhan/Basics-of-Python--AI-Python-for-Beginners-by-Andrew-NG/blob/main/Course2_Lesson_1.ipynb\" target=\"_parent\"><img src=\"https://colab.research.google.com/assets/colab-badge.svg\" alt=\"Open In Colab\"/></a>"
      ]
    },
    {
      "cell_type": "markdown",
      "id": "4bd8fbd2-de5c-47bd-bcd9-cbbe8cdc3104",
      "metadata": {
        "id": "4bd8fbd2-de5c-47bd-bcd9-cbbe8cdc3104"
      },
      "source": [
        "# Lesson 1 - Completing a task list with AI"
      ]
    },
    {
      "cell_type": "markdown",
      "id": "f2ba7ff3",
      "metadata": {
        "id": "f2ba7ff3"
      },
      "source": [
        "In this course, you'll learn how to automate tasks using Python. This means you'll be able to have Python **do repetitive things** and **make decisions** for you. One important skill you'll develop is the ability to store multiple pieces of data together. This lesson will introduce you to **lists**, a powerful tool for this purpose.\n",
        "\n",
        "To get started, let's load some functions that you'll use in this lesson."
      ]
    },
    {
      "cell_type": "code",
      "execution_count": null,
      "id": "41ef33ad-2b5c-40db-a1ab-9f3c689edd55",
      "metadata": {
        "height": 30,
        "id": "41ef33ad-2b5c-40db-a1ab-9f3c689edd55"
      },
      "outputs": [],
      "source": [
        "from helper_functions import print_llm_response, get_llm_response"
      ]
    },
    {
      "cell_type": "markdown",
      "id": "f156dba3",
      "metadata": {
        "id": "f156dba3"
      },
      "source": [
        "### What are lists?\n",
        "In the last course, you learned about variables. Each variable holds a single piece of data.\n",
        "\n",
        "For example:"
      ]
    },
    {
      "cell_type": "code",
      "execution_count": null,
      "id": "73758fc8",
      "metadata": {
        "height": 30,
        "id": "73758fc8"
      },
      "outputs": [],
      "source": [
        "name = \"Awais Khan\""
      ]
    },
    {
      "cell_type": "markdown",
      "id": "b8e315cf",
      "metadata": {
        "id": "b8e315cf"
      },
      "source": [
        "Let's say I want to write a poem for all my friends... all three of them. Run the cell below, then change the name above to Isabel and rerun the cell."
      ]
    },
    {
      "cell_type": "code",
      "execution_count": null,
      "id": "30a8e543",
      "metadata": {
        "height": 98,
        "id": "30a8e543",
        "outputId": "a008961c-49f5-4adf-f469-888a55299529"
      },
      "outputs": [
        {
          "name": "stdout",
          "output_type": "stream",
          "text": [
            "____________________________________________________________________________________________________\n",
            "A wonderful son, Awais Khan so dear,\n",
            "With a heart so pure, spreading cheer.\n",
            "In your eyes, a twinkle, bright and clear,\n",
            "Happy birthday, may your dreams appear.\n",
            "____________________________________________________________________________________________________\n",
            "\n",
            "\n"
          ]
        }
      ],
      "source": [
        "prompt = f\"\"\"\n",
        "Write a four line birthday poem for my son {name}.\n",
        "The poem should be inspired by the first letter of my son's name.\n",
        "\"\"\"\n",
        "print_llm_response(prompt)"
      ]
    },
    {
      "cell_type": "markdown",
      "id": "cb48382c",
      "metadata": {
        "id": "cb48382c"
      },
      "source": [
        "Changing the value held by a variable requires lots of updates to the variables. A better way to handle this is by using a list.\n",
        "\n",
        "Lists are a data type in Python that can hold multiple pieces of data. This reduces the need for repetitive variable assignments since you can include all the pieces of data together."
      ]
    },
    {
      "cell_type": "markdown",
      "id": "5d36fc84-7238-478c-a70b-8b4988dae5b9",
      "metadata": {
        "id": "5d36fc84-7238-478c-a70b-8b4988dae5b9"
      },
      "source": [
        "## Creating  a list\n",
        "\n",
        "Below, you will create a list that holds the names `\"Tommy\"`, `\"Isabel\"` and `\"Daniel\"`."
      ]
    },
    {
      "cell_type": "code",
      "execution_count": null,
      "id": "b2cdf52d-f8be-4eb9-870b-19b0ed83fc25",
      "metadata": {
        "height": 30,
        "id": "b2cdf52d-f8be-4eb9-870b-19b0ed83fc25"
      },
      "outputs": [],
      "source": [
        "kids_list = [\"Aiza\", \"Arfa\", \"Azka\"]"
      ]
    },
    {
      "cell_type": "code",
      "execution_count": null,
      "id": "343fb2a6-3bfc-44b8-9dd3-a3d8e177906a",
      "metadata": {
        "height": 30,
        "id": "343fb2a6-3bfc-44b8-9dd3-a3d8e177906a",
        "outputId": "b0df1ddf-3dad-4031-f1aa-3a90cd927711"
      },
      "outputs": [
        {
          "name": "stdout",
          "output_type": "stream",
          "text": [
            "['Aiza', 'Arfa', 'Azka']\n"
          ]
        }
      ],
      "source": [
        "print(kids_list)"
      ]
    },
    {
      "cell_type": "markdown",
      "id": "10fe72bf",
      "metadata": {
        "id": "10fe72bf"
      },
      "source": [
        "`friends_list` is a single variable of type `list` that holds multiple values."
      ]
    },
    {
      "cell_type": "code",
      "execution_count": null,
      "id": "bfae06d5",
      "metadata": {
        "height": 30,
        "id": "bfae06d5",
        "outputId": "b14f1064-9dc6-4658-df6f-b3adb066bb9e"
      },
      "outputs": [
        {
          "data": {
            "text/plain": [
              "list"
            ]
          },
          "execution_count": 9,
          "metadata": {},
          "output_type": "execute_result"
        }
      ],
      "source": [
        "type(kids_list)"
      ]
    },
    {
      "cell_type": "markdown",
      "id": "7df5e778",
      "metadata": {
        "id": "7df5e778"
      },
      "source": [
        "You can check how many values are stored in the list by using `len()`:"
      ]
    },
    {
      "cell_type": "code",
      "execution_count": null,
      "id": "c675bd49",
      "metadata": {
        "height": 30,
        "id": "c675bd49",
        "outputId": "250013c2-29a6-41c4-ffac-b1238b705544"
      },
      "outputs": [
        {
          "data": {
            "text/plain": [
              "3"
            ]
          },
          "execution_count": 10,
          "metadata": {},
          "output_type": "execute_result"
        }
      ],
      "source": [
        "len(kids_list)"
      ]
    },
    {
      "cell_type": "markdown",
      "id": "54e11255",
      "metadata": {
        "id": "54e11255"
      },
      "source": [
        "So this list has three elements."
      ]
    },
    {
      "cell_type": "markdown",
      "id": "5ae55d3c",
      "metadata": {
        "id": "5ae55d3c"
      },
      "source": [
        "You can use lists as you used variables before within LLM prompts. Below, you are including the `friends_list` in the prompt to write four-line birthday poems for `'Tommy'`, `'Isabel'` and `'Daniel'`."
      ]
    },
    {
      "cell_type": "code",
      "execution_count": null,
      "id": "e0b59524",
      "metadata": {
        "height": 98,
        "id": "e0b59524",
        "outputId": "c2b20eef-cc8b-46e5-cd83-a058ff77ecc8"
      },
      "outputs": [
        {
          "name": "stdout",
          "output_type": "stream",
          "text": [
            "\n",
            "Write a set of four line birthday poems for my kids ['Aiza', 'Arfa', 'Azka']. \n",
            "The poems should be insipred by the third letter of each kid's name.\n",
            "\n"
          ]
        }
      ],
      "source": [
        "prompt = f\"\"\"\n",
        "Write a set of four line birthday poems for my kids {kids_list}.\n",
        "The poems should be insipred by the third letter of each kid's name.\n",
        "\"\"\"\n",
        "print(prompt)"
      ]
    },
    {
      "cell_type": "markdown",
      "id": "2cf56776",
      "metadata": {
        "id": "2cf56776"
      },
      "source": [
        "Now, you can use that prompt with the LLM:"
      ]
    },
    {
      "cell_type": "code",
      "execution_count": null,
      "id": "ac8ed4b1",
      "metadata": {
        "height": 30,
        "id": "ac8ed4b1",
        "outputId": "daf1656f-ea0e-4139-fdba-58c55cffef22"
      },
      "outputs": [
        {
          "name": "stdout",
          "output_type": "stream",
          "text": [
            "____________________________________________________________________________________________________\n",
            "For Aiza:\n",
            "A birthday wish for you, dear Aiza,\n",
            "In your heart, may joy always stay.\n",
            "Zest for life, in all you do,\n",
            "A special day, just for you.\n",
            "\n",
            "For Arfa:\n",
            "A celebration for you, sweet Arfa,\n",
            "Radiant smiles and laughter, ha-ha!\n",
            "Forever young, in spirit and mind,\n",
            "A birthday full of love, you'll find.\n",
            "\n",
            "For Azka:\n",
            "A day of happiness, for you, Azka,\n",
            "Kindness and love, in your heart, ka.\n",
            "Keep shining bright, like a star,\n",
            "A special birthday, wherever you are.\n",
            "____________________________________________________________________________________________________\n",
            "\n",
            "\n"
          ]
        }
      ],
      "source": [
        "print_llm_response(prompt)"
      ]
    },
    {
      "cell_type": "markdown",
      "id": "2d0a44bf",
      "metadata": {
        "id": "2d0a44bf"
      },
      "source": [
        "## Accessing individual elements of a list"
      ]
    },
    {
      "cell_type": "markdown",
      "id": "d7de8ba8",
      "metadata": {
        "id": "d7de8ba8"
      },
      "source": [
        "You can access individual elements from a list. Let's ask the chatbot how to do that."
      ]
    },
    {
      "cell_type": "markdown",
      "id": "82fe4e72",
      "metadata": {
        "id": "82fe4e72"
      },
      "source": [
        "<p style=\"background-color:#F5C780; padding:15px\"> 🤖 <b>Use the Chatbot</b>: How do I access a specific element of this list:\n",
        "friends_list = [\"Tommy\", \"Isabel\", \"Daniel\"]\n",
        "</p>"
      ]
    },
    {
      "cell_type": "markdown",
      "id": "05ad7e82",
      "metadata": {
        "id": "05ad7e82"
      },
      "source": [
        "For instance, to access the first element, you would use the following code:"
      ]
    },
    {
      "cell_type": "code",
      "execution_count": null,
      "id": "db3b8120",
      "metadata": {
        "height": 47,
        "id": "db3b8120",
        "outputId": "b5404171-61e4-4672-c499-de122ab18a88"
      },
      "outputs": [
        {
          "name": "stdout",
          "output_type": "stream",
          "text": [
            "Aiza\n"
          ]
        }
      ],
      "source": [
        "first_kid = kids_list[0]\n",
        "print(first_kid)  # Output: Aiza"
      ]
    },
    {
      "cell_type": "markdown",
      "id": "e4630495-74c9-4d0b-906e-9655b9087f81",
      "metadata": {
        "id": "e4630495-74c9-4d0b-906e-9655b9087f81"
      },
      "source": [
        "To access the second element, you would use the following code:"
      ]
    },
    {
      "cell_type": "code",
      "execution_count": null,
      "id": "ef6ddceb",
      "metadata": {
        "height": 30,
        "id": "ef6ddceb",
        "outputId": "33f08c7e-c4ee-47fe-a26a-fa8d9914a86f"
      },
      "outputs": [
        {
          "name": "stdout",
          "output_type": "stream",
          "text": [
            "Arfa\n"
          ]
        }
      ],
      "source": [
        "print(kids_list[1]) # Output: Arfa"
      ]
    },
    {
      "cell_type": "markdown",
      "id": "9ba91b9a-4bd7-4cc7-b9f1-87fa15e55dfc",
      "metadata": {
        "id": "9ba91b9a-4bd7-4cc7-b9f1-87fa15e55dfc"
      },
      "source": [
        "Note that for accessing the first element you used the index 0, and for accessing the second element you used 1."
      ]
    },
    {
      "cell_type": "markdown",
      "id": "59eed6c3",
      "metadata": {
        "id": "59eed6c3"
      },
      "source": [
        "So, if you do the following, you'll get an error."
      ]
    },
    {
      "cell_type": "code",
      "execution_count": null,
      "id": "c19112dc",
      "metadata": {
        "height": 30,
        "id": "c19112dc",
        "outputId": "42b28480-569e-4595-8566-02a251b2bc38"
      },
      "outputs": [
        {
          "ename": "IndexError",
          "evalue": "list index out of range",
          "output_type": "error",
          "traceback": [
            "\u001b[0;31m---------------------------------------------------------------------------\u001b[0m",
            "\u001b[0;31mIndexError\u001b[0m                                Traceback (most recent call last)",
            "Cell \u001b[0;32mIn[17], line 1\u001b[0m\n\u001b[0;32m----> 1\u001b[0m \u001b[38;5;28mprint\u001b[39m(\u001b[43mkids_list\u001b[49m\u001b[43m[\u001b[49m\u001b[38;5;241;43m3\u001b[39;49m\u001b[43m]\u001b[49m) \u001b[38;5;66;03m# Gives an error\u001b[39;00m\n",
            "\u001b[0;31mIndexError\u001b[0m: list index out of range"
          ]
        }
      ],
      "source": [
        "print(kids_list[3]) # Gives an error"
      ]
    },
    {
      "cell_type": "markdown",
      "id": "73cabe3b",
      "metadata": {
        "id": "73cabe3b"
      },
      "source": [
        "But, if you run the following code, you will be able to access the last element from that list."
      ]
    },
    {
      "cell_type": "code",
      "execution_count": null,
      "id": "408eff97",
      "metadata": {
        "height": 30,
        "id": "408eff97",
        "outputId": "9cc2896c-02d3-40f1-bff9-b9dd3d59ae44"
      },
      "outputs": [
        {
          "name": "stdout",
          "output_type": "stream",
          "text": [
            "Azka\n"
          ]
        }
      ],
      "source": [
        "print(kids_list[2])"
      ]
    },
    {
      "cell_type": "markdown",
      "id": "88cef078",
      "metadata": {
        "id": "88cef078"
      },
      "source": [
        "## Adding another element to the list"
      ]
    },
    {
      "cell_type": "code",
      "execution_count": null,
      "id": "77705088-bfb4-40ed-8cc8-76b17b8f1357",
      "metadata": {
        "height": 30,
        "id": "77705088-bfb4-40ed-8cc8-76b17b8f1357"
      },
      "outputs": [],
      "source": [
        "print(kids_list)"
      ]
    },
    {
      "cell_type": "markdown",
      "id": "6a9f875a-5fc9-4bde-be57-3ba9b0d4f1d5",
      "metadata": {
        "id": "6a9f875a-5fc9-4bde-be57-3ba9b0d4f1d5"
      },
      "source": [
        "If you want to add some data to an list, you will use `list.append(new_data)`. So, to add `\"Otto\"` to your `friends_list`, you can run the following code:"
      ]
    },
    {
      "cell_type": "code",
      "execution_count": null,
      "id": "c2c816b9-f7c7-4f0b-a3e2-8fdf3d2e31f7",
      "metadata": {
        "height": 47,
        "id": "c2c816b9-f7c7-4f0b-a3e2-8fdf3d2e31f7"
      },
      "outputs": [],
      "source": [
        "# add single element to list\n",
        "kids_list.append(\"Areej\")"
      ]
    },
    {
      "cell_type": "code",
      "execution_count": null,
      "id": "5ed4248d-367d-4432-873d-229f084ca42c",
      "metadata": {
        "height": 30,
        "id": "5ed4248d-367d-4432-873d-229f084ca42c",
        "outputId": "8ad4d781-6713-4462-96dc-7849fda77068"
      },
      "outputs": [
        {
          "name": "stdout",
          "output_type": "stream",
          "text": [
            "['Aiza', 'Arfa', 'Azka', 'Areej']\n"
          ]
        }
      ],
      "source": [
        "print(kids_list)"
      ]
    },
    {
      "cell_type": "markdown",
      "id": "b6c04751",
      "metadata": {
        "id": "b6c04751"
      },
      "source": [
        "Try for yourself - modify code to add another friend, or yourself"
      ]
    },
    {
      "cell_type": "code",
      "execution_count": null,
      "id": "ed18d3a1",
      "metadata": {
        "height": 98,
        "id": "ed18d3a1",
        "outputId": "523186be-c463-4efc-c873-9fbf1c411117"
      },
      "outputs": [
        {
          "name": "stdout",
          "output_type": "stream",
          "text": [
            "['Aiza', 'Arfa', 'Azka', 'Areej', 'Awais', 'Awais', 'Awais']\n",
            "['Aiza', 'Arfa', 'Azka', 'Areej', 'Awais', 'Awais']\n"
          ]
        }
      ],
      "source": [
        "# Modify the code below to add another friend:\n",
        "kids_list.append(\"Awais\")\n",
        "print(kids_list)\n",
        "kids_list.remove(\"Awais\")\n",
        "print(kids_list)"
      ]
    },
    {
      "cell_type": "markdown",
      "id": "1b22945c-42b3-4ed5-aa1c-bc64c6845897",
      "metadata": {
        "id": "1b22945c-42b3-4ed5-aa1c-bc64c6845897"
      },
      "source": [
        "## Deleting elements"
      ]
    },
    {
      "cell_type": "markdown",
      "id": "91c62ca8",
      "metadata": {
        "id": "91c62ca8"
      },
      "source": [
        "Tommy moved to Bora Bora, so we can't be friends anymore. Let's remove Tommy from `friends_list` by using `.remove()`:"
      ]
    },
    {
      "cell_type": "code",
      "execution_count": null,
      "id": "999f5ce1-a7d0-4f17-a3de-b09eb524b130",
      "metadata": {
        "height": 47,
        "id": "999f5ce1-a7d0-4f17-a3de-b09eb524b130"
      },
      "outputs": [],
      "source": [
        "#using remove\n",
        "kids_list.remove(\"Awais\")"
      ]
    },
    {
      "cell_type": "code",
      "execution_count": null,
      "id": "8b8fdd0f-709b-4076-ba2c-a5bb767dfa21",
      "metadata": {
        "height": 47,
        "id": "8b8fdd0f-709b-4076-ba2c-a5bb767dfa21",
        "outputId": "b8c3ad0c-ba4a-4bde-fc50-953a2b8eaa30"
      },
      "outputs": [
        {
          "name": "stdout",
          "output_type": "stream",
          "text": [
            "['Aiza', 'Arfa', 'Azka', 'Areej', 'Awais']\n"
          ]
        }
      ],
      "source": [
        "kids_list.remove(\"Awais\")\n",
        "print(kids_list)"
      ]
    },
    {
      "cell_type": "markdown",
      "id": "e8eca359-4e2d-4f2e-8a3e-29a706cd5097",
      "metadata": {
        "id": "e8eca359-4e2d-4f2e-8a3e-29a706cd5097"
      },
      "source": [
        "## Lists with other data types\n",
        "\n",
        "Lists can hold any type of data. For instance, here is a list of numbers"
      ]
    },
    {
      "cell_type": "code",
      "execution_count": null,
      "id": "8b884de4",
      "metadata": {
        "height": 30,
        "id": "8b884de4"
      },
      "outputs": [],
      "source": [
        "list_ages = [42, 28, 30]"
      ]
    },
    {
      "cell_type": "code",
      "execution_count": null,
      "id": "53d6be61-0b24-4c3a-84c8-fd800296c2bb",
      "metadata": {
        "height": 30,
        "id": "53d6be61-0b24-4c3a-84c8-fd800296c2bb",
        "outputId": "f2d8e8db-3c83-4f86-dec3-37b28a2807c8"
      },
      "outputs": [
        {
          "name": "stdout",
          "output_type": "stream",
          "text": [
            "[42, 28, 30]\n"
          ]
        }
      ],
      "source": [
        "print(list_ages)"
      ]
    },
    {
      "cell_type": "markdown",
      "id": "3fe09e1c",
      "metadata": {
        "id": "3fe09e1c"
      },
      "source": [
        "Lists can also hold long strings. Here's a list of tasks that might make up a todo list"
      ]
    },
    {
      "cell_type": "code",
      "execution_count": null,
      "id": "b3eded47-a74d-4f79-938b-f1580753a706",
      "metadata": {
        "height": 115,
        "id": "b3eded47-a74d-4f79-938b-f1580753a706"
      },
      "outputs": [],
      "source": [
        "#list of tasks in priority order. Multi-line lists are allowed in python!\n",
        "list_of_tasks = [\n",
        "    \"Compose a brief email to my boss explaining that I will be late for tomorrow's meeting.\",\n",
        "    \"Write a birthday poem for Otto, celebrating his 28th birthday.\",\n",
        "    \"Write a 300-word review of the movie 'The Arrival'.\"\n",
        "]"
      ]
    },
    {
      "cell_type": "markdown",
      "id": "62c4c86c",
      "metadata": {
        "id": "62c4c86c"
      },
      "source": [
        "If you were wondering how to use lists with AI, take this example. Each element in the previous list is a string that you can pass to `print_llm_response()`. If you want an LLM to do each of these tasks for you, here's what you would do:\n",
        "\n",
        "Set a variable called `task` to each element in the list in turn, then pass it to `print_llm_response()`."
      ]
    },
    {
      "cell_type": "code",
      "execution_count": null,
      "id": "642ab497-32dd-45b9-996b-e06861b2b7dc",
      "metadata": {
        "height": 47,
        "id": "642ab497-32dd-45b9-996b-e06861b2b7dc",
        "outputId": "d22a12e0-6b09-46c2-8209-faa3a6913700"
      },
      "outputs": [
        {
          "name": "stdout",
          "output_type": "stream",
          "text": [
            "____________________________________________________________________________________________________\n",
            "Subject: Running Late for Tomorrow's Meeting\n",
            "\n",
            "Hi [Boss's Name],\n",
            "\n",
            "I wanted to let you know that I will be running late for tomorrow's meeting. I apologize for any inconvenience this may cause. I will do my best to join as soon as I can.\n",
            "\n",
            "Thank you for your understanding.\n",
            "\n",
            "Best,\n",
            "[Your Name]\n",
            "____________________________________________________________________________________________________\n",
            "\n",
            "\n"
          ]
        }
      ],
      "source": [
        "task = list_of_tasks[0]\n",
        "print_llm_response(task)"
      ]
    },
    {
      "cell_type": "code",
      "execution_count": null,
      "id": "d5040f08-d01a-4b7f-acd0-70a9bfffe805",
      "metadata": {
        "height": 47,
        "id": "d5040f08-d01a-4b7f-acd0-70a9bfffe805",
        "outputId": "2b3e8f70-47b5-49ee-a24b-d73a52fdc03c"
      },
      "outputs": [
        {
          "name": "stdout",
          "output_type": "stream",
          "text": [
            "____________________________________________________________________________________________________\n",
            "Happy 28th birthday, Otto dear,\n",
            "Another year older, another year near.\n",
            "May your day be filled with joy and cheer,\n",
            "And may this year be your best year.\n",
            "\n",
            "Wishing you happiness, health, and success,\n",
            "May all your dreams come true, no less.\n",
            "Enjoy your special day, have lots of fun,\n",
            "Happy birthday, Otto, you're second to none!\n",
            "____________________________________________________________________________________________________\n",
            "\n",
            "\n"
          ]
        }
      ],
      "source": [
        "task = list_of_tasks[1]\n",
        "print_llm_response(task)"
      ]
    },
    {
      "cell_type": "code",
      "execution_count": null,
      "id": "2085c168-21ee-4675-b10e-082945b80af4",
      "metadata": {
        "height": 47,
        "id": "2085c168-21ee-4675-b10e-082945b80af4",
        "outputId": "4ab18b44-768b-417d-d617-50d48456b450"
      },
      "outputs": [
        {
          "name": "stdout",
          "output_type": "stream",
          "text": [
            "____________________________________________________________________________________________________\n",
            "\"The Arrival\" is a captivating science fiction film that follows the story of a linguist, Louise Banks, played by Amy Adams, who is tasked with communicating with extraterrestrial beings that have arrived on Earth. The movie is a thought-provoking exploration of language, communication, and the complexities of human understanding.\n",
            "\n",
            "Director Denis Villeneuve masterfully creates a tense and suspenseful atmosphere throughout the film, keeping viewers on the edge of their seats as the mystery of the aliens' arrival unfolds. The visual effects are stunning, with the alien spacecraft and their intricate language system being particularly impressive.\n",
            "\n",
            "Amy Adams delivers a powerful performance as Louise Banks, capturing the character's intelligence, vulnerability, and determination with nuance and depth. Jeremy Renner also shines in his role as a physicist working alongside Louise to decipher the aliens' language.\n",
            "\n",
            "One of the standout aspects of \"The Arrival\" is its unique take on the alien invasion genre. Instead of focusing on action-packed sequences and battles, the film delves into the intricacies of language and communication, offering a fresh and intellectually stimulating perspective on the idea of first contact with extraterrestrial life.\n",
            "\n",
            "The film's nonlinear narrative adds an additional layer of complexity, keeping viewers engaged as they piece together the puzzle of Louise's past and its connection to the present events. The emotional depth of the story is further enhanced by a haunting and evocative score that complements the film's themes of love, loss, and the nature of time.\n",
            "\n",
            "Overall, \"The Arrival\" is a thought-provoking and visually stunning film that offers a fresh take on the science fiction genre. With its strong performances, compelling story, and striking visuals, it is a must-see for fans of intelligent and thought-provoking cinema.\n",
            "____________________________________________________________________________________________________\n",
            "\n",
            "\n"
          ]
        }
      ],
      "source": [
        "task = list_of_tasks[2]\n",
        "print_llm_response(task)"
      ]
    },
    {
      "cell_type": "markdown",
      "id": "dcac3fe6",
      "metadata": {
        "id": "dcac3fe6"
      },
      "source": [
        "You worked through all the elements in the list, but there is still a lot of repetition here. You had to specify each element separately. There is actually a much better way to do this using something called a for loop. Let's go to the next video to see it in action.\n"
      ]
    },
    {
      "cell_type": "markdown",
      "id": "ba8d2d3b-8745-4d96-b175-08cffdc856a4",
      "metadata": {
        "id": "ba8d2d3b-8745-4d96-b175-08cffdc856a4"
      },
      "source": [
        "## Extra practice"
      ]
    },
    {
      "cell_type": "markdown",
      "id": "558ae3a6-972f-45a2-bfc3-7dbbda7f1c7b",
      "metadata": {
        "id": "558ae3a6-972f-45a2-bfc3-7dbbda7f1c7b"
      },
      "source": [
        "Please go through the exercises in the cells below if you want some extra practice for the topics you covered in this lesson."
      ]
    },
    {
      "cell_type": "code",
      "execution_count": null,
      "id": "a52ac3fe-7e72-44c4-9556-8f872ec6bf73",
      "metadata": {
        "height": 132,
        "id": "a52ac3fe-7e72-44c4-9556-8f872ec6bf73",
        "outputId": "164c3bf0-49d8-419c-ffa4-71b7b60c482a"
      },
      "outputs": [
        {
          "name": "stdout",
          "output_type": "stream",
          "text": [
            "['Inception', 'The Matrix', 'Interstellar', 'The Dark Knight', 'The Godfather']\n"
          ]
        }
      ],
      "source": [
        "# Create a list with the titles\n",
        "# of five of your favorite movies\n",
        "\n",
        "### WRITE CODE HERE ###\n",
        "movie_list = [\"Inception\", \"The Matrix\", \"Interstellar\", \"The Dark Knight\", \"The Godfather\"]\n",
        "print(movie_list)\n",
        "### --------------- ###"
      ]
    },
    {
      "cell_type": "code",
      "execution_count": null,
      "id": "a2f8afeb-ee8e-46f9-ad39-751a1ab9fdf3",
      "metadata": {
        "height": 149,
        "id": "a2f8afeb-ee8e-46f9-ad39-751a1ab9fdf3",
        "outputId": "e6b4c8cd-c0de-494b-bdcb-f88fae7be28a"
      },
      "outputs": [
        {
          "name": "stdout",
          "output_type": "stream",
          "text": [
            "7\n"
          ]
        }
      ],
      "source": [
        "# Display the fourth element of\n",
        "# the following list using print()\n",
        "\n",
        "prime_numbers = [2, 3, 5, 7, 11]\n",
        "\n",
        "### WRITE CODE HERE ###\n",
        "print(prime_numbers[3])\n",
        "### --------------- ###"
      ]
    },
    {
      "cell_type": "code",
      "execution_count": null,
      "id": "ca358297-651e-4ad7-912f-921af007ef01",
      "metadata": {
        "height": 149,
        "id": "ca358297-651e-4ad7-912f-921af007ef01",
        "outputId": "09f36b29-f84d-4ded-ac70-828fa34ab34d"
      },
      "outputs": [
        {
          "name": "stdout",
          "output_type": "stream",
          "text": [
            "11\n"
          ]
        }
      ],
      "source": [
        "# Fix the bug in the following code\n",
        "\n",
        "prime_numbers = [2, 3, 5, 7, 11]\n",
        "\n",
        "### FIX THIS CODE ###\n",
        "#access and print() the fifth element\n",
        "### --------------- ###\n",
        "print(prime_numbers[4])"
      ]
    },
    {
      "cell_type": "code",
      "execution_count": null,
      "id": "a823e76b-18b1-45d9-a678-1aa481d17496",
      "metadata": {
        "height": 166,
        "id": "a823e76b-18b1-45d9-a678-1aa481d17496",
        "outputId": "4a609826-3acf-408e-b573-9ad601342d27"
      },
      "outputs": [
        {
          "name": "stdout",
          "output_type": "stream",
          "text": [
            "['Tommy', 'Isabel', 'Daniel', 'Otto', 'Robert']\n"
          ]
        }
      ],
      "source": [
        "# Add one name to friends_list using append\n",
        "\n",
        "friends_list = [\"Tommy\", \"Isabel\", \"Daniel\", \"Otto\"]\n",
        "\n",
        "### WRITE CODE HERE ###\n",
        "friends_list.append(\"Robert\")\n",
        "### --------------- ###\n",
        "\n",
        "print(friends_list)"
      ]
    },
    {
      "cell_type": "code",
      "execution_count": null,
      "id": "bae37d2d-3736-410b-983b-2e40fe5b1302",
      "metadata": {
        "height": 217,
        "id": "bae37d2d-3736-410b-983b-2e40fe5b1302",
        "outputId": "75dd3661-49e1-4ac1-a5a4-51534cb77427"
      },
      "outputs": [
        {
          "name": "stdout",
          "output_type": "stream",
          "text": [
            "['Colombia', 'Peru', 'Brasil', 'Argentina']\n"
          ]
        }
      ],
      "source": [
        "# In the following code, remove the country\n",
        "# that is not in South America\n",
        "\n",
        "countries_in_south_america = [\"Colombia\", \"Peru\",\n",
        "                              \"Brasil\", \"Japan\",\n",
        "                              \"Argentina\"]\n",
        "\n",
        "### WRITE CODE HERE ###\n",
        "countries_in_south_america.remove(\"Japan\")\n",
        "### --------------- ###\n",
        "\n",
        "print(countries_in_south_america)"
      ]
    }
  ],
  "metadata": {
    "kernelspec": {
      "display_name": "Python 3 (ipykernel)",
      "language": "python",
      "name": "python3"
    },
    "language_info": {
      "codemirror_mode": {
        "name": "ipython",
        "version": 3
      },
      "file_extension": ".py",
      "mimetype": "text/x-python",
      "name": "python",
      "nbconvert_exporter": "python",
      "pygments_lexer": "ipython3",
      "version": "3.9.19"
    },
    "colab": {
      "provenance": [],
      "toc_visible": true,
      "include_colab_link": true
    }
  },
  "nbformat": 4,
  "nbformat_minor": 5
}