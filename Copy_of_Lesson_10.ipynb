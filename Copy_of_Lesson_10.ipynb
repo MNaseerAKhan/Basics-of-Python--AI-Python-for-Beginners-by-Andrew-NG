{
  "cells": [
    {
      "cell_type": "markdown",
      "metadata": {
        "id": "view-in-github",
        "colab_type": "text"
      },
      "source": [
        "<a href=\"https://colab.research.google.com/github/MNaseerAKhan/Basics-of-Python--AI-Python-for-Beginners-by-Andrew-NG/blob/main/Copy_of_Lesson_10.ipynb\" target=\"_parent\"><img src=\"https://colab.research.google.com/assets/colab-badge.svg\" alt=\"Open In Colab\"/></a>"
      ]
    },
    {
      "cell_type": "markdown",
      "id": "de660b8e",
      "metadata": {
        "id": "de660b8e"
      },
      "source": [
        "# Lesson 10: Functions - Actions on Data"
      ]
    },
    {
      "cell_type": "markdown",
      "id": "a3c720f4",
      "metadata": {
        "id": "a3c720f4"
      },
      "source": [
        "First, start by running the command below. This imports some functions, including the `print_llm_response` function you used before, from the `helper_functions` Python file."
      ]
    },
    {
      "cell_type": "markdown",
      "id": "d34927a8",
      "metadata": {
        "id": "d34927a8"
      },
      "source": [
        "### Download helper_function.py\n",
        "* pls set Secrets Variable for Gemini in Collab\n",
        "* `GEMINI_API_KEY`\n",
        "\n",
        "[Get API KEY From Google AI Studio](https://aistudio.google.com/app/apikey)"
      ]
    },
    {
      "cell_type": "code",
      "execution_count": null,
      "id": "efc90708",
      "metadata": {
        "id": "efc90708",
        "outputId": "25e3bd3f-3ae5-4d7c-86a9-f0c41718d5e9",
        "colab": {
          "base_uri": "https://localhost:8080/"
        }
      },
      "outputs": [
        {
          "output_type": "stream",
          "name": "stdout",
          "text": [
            "  % Total    % Received % Xferd  Average Speed   Time    Time     Time  Current\n",
            "                                 Dload  Upload   Total   Spent    Left  Speed\n",
            "100  3944  100  3944    0     0   7763      0 --:--:-- --:--:-- --:--:--  7763\n"
          ]
        }
      ],
      "source": [
        "### Download helper_function.py\n",
        "# * Set Secrets Variable for Gemini\n",
        "# * `GEMINI_API_KEY`\n",
        "\n",
        "!curl -o helper_functions.py https://raw.githubusercontent.com/panaversity/learn-cloud-native-modern-ai-python/main/07_natural_language_programming/02_ai_python_for_beginners/course1_basics/Lesson_9/helper_functions.py"
      ]
    },
    {
      "cell_type": "code",
      "execution_count": null,
      "id": "e7d9dd05",
      "metadata": {
        "id": "e7d9dd05"
      },
      "outputs": [],
      "source": [
        "from helper_functions import *"
      ]
    },
    {
      "cell_type": "markdown",
      "id": "a229ce91",
      "metadata": {
        "id": "a229ce91"
      },
      "source": [
        "In previous lessons, you have used the `print()` function to display values directly to the screen and the `print_llm_response()` function to use an LLM following the instruction you provide as a string. Below, you will print `\"¯\\_(ツ)_/¯\"` and ask the LLM about the capital of France."
      ]
    },
    {
      "cell_type": "code",
      "execution_count": null,
      "id": "a753314f",
      "metadata": {
        "id": "a753314f",
        "outputId": "944f23b0-be42-487a-da70-2fed855064a0",
        "colab": {
          "base_uri": "https://localhost:8080/"
        }
      },
      "outputs": [
        {
          "output_type": "stream",
          "name": "stdout",
          "text": [
            "¯\\_(ツ)_/¯\n"
          ]
        }
      ],
      "source": [
        "print(\"¯\\_(ツ)_/¯\")"
      ]
    },
    {
      "cell_type": "code",
      "execution_count": null,
      "id": "cf25d93a-1d9d-4ba8-bb54-6503acbb1930",
      "metadata": {
        "id": "cf25d93a-1d9d-4ba8-bb54-6503acbb1930",
        "outputId": "df674e05-9d39-4446-97c4-a40844de4bbb",
        "colab": {
          "base_uri": "https://localhost:8080/",
          "height": 52
        }
      },
      "outputs": [
        {
          "output_type": "stream",
          "name": "stdout",
          "text": [
            "The capital of France is **Paris**. \n",
            "\n"
          ]
        }
      ],
      "source": [
        "print_llm_response(\"What is the capital of France?\")"
      ]
    },
    {
      "cell_type": "markdown",
      "id": "52ece8c0",
      "metadata": {
        "id": "52ece8c0"
      },
      "source": [
        "You have also used the `type` function, which gives you the type used in Python for a value or variable you provide. For instance, the type of 17 is `int` (for integer)."
      ]
    },
    {
      "cell_type": "code",
      "execution_count": null,
      "id": "c81ad492",
      "metadata": {
        "id": "c81ad492",
        "outputId": "a734a149-367b-4398-c652-41bd54269fe5",
        "colab": {
          "base_uri": "https://localhost:8080/"
        }
      },
      "outputs": [
        {
          "output_type": "execute_result",
          "data": {
            "text/plain": [
              "int"
            ]
          },
          "metadata": {},
          "execution_count": 8
        }
      ],
      "source": [
        "age : int = 17\n",
        "type(17)\n",
        "type(age)"
      ]
    },
    {
      "cell_type": "markdown",
      "id": "df1e3c22",
      "metadata": {
        "id": "df1e3c22"
      },
      "source": [
        "In this lesson, you will see more function examples and explore more deeply how functions work."
      ]
    },
    {
      "cell_type": "markdown",
      "id": "17034de4",
      "metadata": {
        "id": "17034de4"
      },
      "source": [
        "## Functions to count, to round, and to do much more"
      ]
    },
    {
      "cell_type": "markdown",
      "id": "76aa246f",
      "metadata": {
        "id": "76aa246f"
      },
      "source": [
        "There are many functions in Python that you can use straight out of the box. For instance, the `len()` function counts the characters in a string. So when you run the code below, you will display (using `print()`) the result of counting (with `len()`) the number of characters in the string `\"Hello World!\"`."
      ]
    },
    {
      "cell_type": "code",
      "execution_count": null,
      "id": "05f09a2e",
      "metadata": {
        "id": "05f09a2e",
        "outputId": "638f7c4a-15f4-4f63-96e3-361d890a774f",
        "colab": {
          "base_uri": "https://localhost:8080/"
        }
      },
      "outputs": [
        {
          "output_type": "stream",
          "name": "stdout",
          "text": [
            "12\n",
            "26\n"
          ]
        }
      ],
      "source": [
        "print( len(\"Hello World!\") )\n",
        "print( len(\"I Love Learning AI Python!\") )"
      ]
    },
    {
      "cell_type": "markdown",
      "id": "b0987e9f",
      "metadata": {
        "id": "b0987e9f"
      },
      "source": [
        "As another example, you can use `round()` to take a floating point number and round it to the nearest integer. Below, you use `print()` to display the result of rounding (with `round()`) the number `42.17`."
      ]
    },
    {
      "cell_type": "code",
      "execution_count": null,
      "id": "ce418e1a",
      "metadata": {
        "id": "ce418e1a",
        "outputId": "24ecf223-b6cb-45b3-bc44-8275f6e1a4d8",
        "colab": {
          "base_uri": "https://localhost:8080/"
        }
      },
      "outputs": [
        {
          "output_type": "stream",
          "name": "stdout",
          "text": [
            "42\n",
            "53\n",
            "53.2\n",
            "Today's price of apples is Rs 53.20 per kg\n"
          ]
        }
      ],
      "source": [
        "fruit : str = \"apples\"\n",
        "price = 53.1967\n",
        "print(round(42.17))\n",
        "print(round(price))\n",
        "print(round(price, 1))\n",
        "print(f\"Today's price of {fruit} is Rs {price :.2f} per kg\")"
      ]
    },
    {
      "cell_type": "markdown",
      "id": "94a9d309",
      "metadata": {
        "id": "94a9d309"
      },
      "source": [
        "You can save the result from a function using variables in a very similar way to what you have already explored in previous lessons. Below, you save the result from `len(\"Hello World!\")` to the variable `string_length`."
      ]
    },
    {
      "cell_type": "code",
      "execution_count": null,
      "id": "c4690998",
      "metadata": {
        "id": "c4690998",
        "outputId": "dd9a17d6-5b07-4265-ed16-7e9320a576ce",
        "colab": {
          "base_uri": "https://localhost:8080/"
        }
      },
      "outputs": [
        {
          "output_type": "stream",
          "name": "stdout",
          "text": [
            "12\n",
            "26\n"
          ]
        }
      ],
      "source": [
        "string_length = len(\"Hello World!\")\n",
        "str_length = len(\"I Love Learning AI Python!\")\n",
        "print(string_length)\n",
        "print(str_length)"
      ]
    },
    {
      "cell_type": "markdown",
      "id": "783e327e",
      "metadata": {
        "id": "783e327e"
      },
      "source": [
        "There are many functions in Python, and you don't have to memorize them all. If you ever need a function to perform a specific task, you can ask the chatbot. Try it now with the suggested prompt here or try your own.\n",
        "\n",
        "<p style=\"background-color:#F5C780; padding:15px\"> 🤖 <b>Use the Chatbot</b>: How can I find the length of a string?\n",
        "</p>"
      ]
    },
    {
      "cell_type": "code",
      "source": [
        "# prompt: how can i find the length of a string?\n",
        "\n",
        "my_string = \"This is a string.\"\n",
        "string_length = len(my_string)\n",
        "\n",
        "new_string : str = \"I am excited to learn more about functions!\"\n",
        "string2_length = len(new_string)\n",
        "print(f\"The length of the string is: {string_length}\")\n",
        "print(f\"Then length of the new string is : {string2_length}\")"
      ],
      "metadata": {
        "id": "Q6P56vftabmF",
        "outputId": "901c8e43-7bda-4973-ca10-2218aec49d69",
        "colab": {
          "base_uri": "https://localhost:8080/"
        }
      },
      "id": "Q6P56vftabmF",
      "execution_count": null,
      "outputs": [
        {
          "output_type": "stream",
          "name": "stdout",
          "text": [
            "The length of the string is: 17\n",
            "Then length of the new string is : 43\n"
          ]
        }
      ]
    },
    {
      "cell_type": "markdown",
      "id": "90b0fdc4-e01f-425b-af70-755ee52334f2",
      "metadata": {
        "id": "90b0fdc4-e01f-425b-af70-755ee52334f2"
      },
      "source": [
        "## Using functions in AI programs"
      ]
    },
    {
      "cell_type": "markdown",
      "id": "1b0dee8d-14f8-4078-bbc1-ed3e8aafce86",
      "metadata": {
        "id": "1b0dee8d-14f8-4078-bbc1-ed3e8aafce86"
      },
      "source": [
        "Functions can be used alongside variables in AI programs. In the previous lesson, you saw how to create custom instructions (or prompts) for an LLM using variables. In the cell below, you will use variables and the `round()` function to create a prompt that you will use for an LLM with the `get_llm_response()` function. The `get_llm_response()` function is very similar to `print_llm_response()` (which you used before); the main difference is that you get a string as a result instead of just displaying the LLM response. This way, you can store the LLM response in the variable `response`."
      ]
    },
    {
      "cell_type": "code",
      "execution_count": null,
      "id": "03b730a6",
      "metadata": {
        "id": "03b730a6",
        "outputId": "d26f8911-d6e8-4935-c24d-ba0bfb289af4",
        "colab": {
          "base_uri": "https://localhost:8080/",
          "height": 138
        }
      },
      "outputs": [
        {
          "output_type": "stream",
          "name": "stdout",
          "text": [
            "Tommy's pantry, a spud-filled sight,\n",
            "Five potatoes, a culinary delight. \n",
            "\n",
            "Vicky's got ten oranges bright,\n",
            "A citrus bounty, shining light,\n",
            "A juicy treat, a happy sight. \n",
            "\n"
          ]
        }
      ],
      "source": [
        "name = \"Tommy\"\n",
        "potatoes = 4.75\n",
        "prompt = f\"\"\"Write a couplet about my friend {name} who has about {round(potatoes)} potatoes\"\"\"\n",
        "response = get_llm_response(prompt)\n",
        "print(response)\n",
        "\n",
        "name1 : str = \"vicky\"\n",
        "oranges = 9.798\n",
        "prompt1 = f\"\"\"Write a triplet about my friend {name1} who has about {round(oranges)} oranges\"\"\"\n",
        "response1 = get_llm_response(prompt1)\n",
        "print(response1)"
      ]
    },
    {
      "cell_type": "markdown",
      "id": "25fc5429",
      "metadata": {
        "id": "25fc5429"
      },
      "source": [
        "## Extra practice\n",
        "\n",
        "Try the exercises below to practice the concepts from this lesson. Read the comments in each cell with the instructions for each exercise.\n",
        "\n",
        "<b>Feel free to use the chatbot if you need help.</b>"
      ]
    },
    {
      "cell_type": "code",
      "execution_count": null,
      "id": "5c38d622",
      "metadata": {
        "id": "5c38d622",
        "outputId": "d40cc609-7401-4b92-be35-13a7e287dbde",
        "colab": {
          "base_uri": "https://localhost:8080/"
        }
      },
      "outputs": [
        {
          "output_type": "stream",
          "name": "stdout",
          "text": [
            "Your lucky number is 40!\n"
          ]
        }
      ],
      "source": [
        "# Enter one of your favorite numbers. Multiply the result by 10 and save it to a variable called 'lucky_number'.\n",
        "# Print a message saying \"Your lucky number is [lucky_number]!\"\n",
        "fav_no : int = 4\n",
        "lucky_number = fav_no * 10\n",
        "print(f\"Your lucky number is {lucky_number}!\")"
      ]
    },
    {
      "cell_type": "code",
      "source": [
        "# prompt: Enter one of your favorite numbers. Multiply the result by 10 and save it to a variable called 'lucky_number'.\n",
        "# Print a message saying \"Your lucky number is [lucky_number]!\"\n",
        "\n",
        "fav_number = 7  # Replace with your favorite number\n",
        "lucky_number = fav_number * 10\n",
        "print(f\"Your lucky number is {lucky_number}!\")\n"
      ],
      "metadata": {
        "id": "kno12_1Cdt5S",
        "outputId": "91a454d3-0fdb-4b1c-f2e8-a14ae157e838",
        "colab": {
          "base_uri": "https://localhost:8080/"
        }
      },
      "id": "kno12_1Cdt5S",
      "execution_count": null,
      "outputs": [
        {
          "output_type": "stream",
          "name": "stdout",
          "text": [
            "Your lucky number is 70!\n"
          ]
        }
      ]
    },
    {
      "cell_type": "code",
      "execution_count": null,
      "id": "c3f62ddb",
      "metadata": {
        "id": "c3f62ddb",
        "outputId": "e3b31fd3-ecab-4021-e718-569530b8b113",
        "colab": {
          "base_uri": "https://localhost:8080/",
          "height": 121
        }
      },
      "outputs": [
        {
          "output_type": "stream",
          "name": "stdout",
          "text": [
            "A flicker in the fading light,\n",
            "A whispered promise in the night,\n",
            "A fragile seed, a tender shoot,\n",
            "Hope whispers, \"It's not too late,\"\n",
            "And dawn will break, a new day's loot. \n",
            "\n"
          ]
        }
      ],
      "source": [
        "# Use print_llm_response() to print a poem with the specified number of lines. Use the\n",
        "# prompt variable to save your prompt before calling print_llm_response()\n",
        "\n",
        "number_of_lines : int = 5\n",
        "topic : str = \"hope\"\n",
        "prompt = f\"\"\"Write a poem about {topic} with {number_of_lines} lines.\"\"\"\n",
        "print_llm_response(prompt)"
      ]
    },
    {
      "cell_type": "code",
      "execution_count": null,
      "id": "653e6a72",
      "metadata": {
        "id": "653e6a72",
        "outputId": "325b3824-64bc-488f-e742-ec317bbb2836",
        "colab": {
          "base_uri": "https://localhost:8080/",
          "height": 138
        }
      },
      "outputs": [
        {
          "output_type": "stream",
          "name": "stdout",
          "text": [
            "A tapestry of threads unseen,\n",
            "Woven tight, a destined scene.\n",
            "Paths diverge, then intertwine,\n",
            "Where fate's design begins to shine.\n",
            "A dance of chance, a whispered plea,\n",
            "Destiny's song, for you and me. \n",
            "\n"
          ]
        }
      ],
      "source": [
        "# Repeat exercise 2, this time using the function get_llm_response(), then print() to print it. This function asks\n",
        "# the LLM for a response, just like print_llm_response, but does not print it. You'll need to save the response to\n",
        "# a variable, then print it out separately.\n",
        "\n",
        "number_of_lines : str = 6\n",
        "topic : str = \"destiny\"\n",
        "prompt = f\"\"\"Write a poem about {topic} with {number_of_lines} lines.\"\"\"\n",
        "response = get_llm_response(prompt)\n",
        "print(response)"
      ]
    }
  ],
  "metadata": {
    "kernelspec": {
      "display_name": "Python 3 (ipykernel)",
      "language": "python",
      "name": "python3"
    },
    "language_info": {
      "codemirror_mode": {
        "name": "ipython",
        "version": 3
      },
      "file_extension": ".py",
      "mimetype": "text/x-python",
      "name": "python",
      "nbconvert_exporter": "python",
      "pygments_lexer": "ipython3",
      "version": "3.9.19"
    },
    "colab": {
      "provenance": [],
      "include_colab_link": true
    }
  },
  "nbformat": 4,
  "nbformat_minor": 5
}