{
  "nbformat": 4,
  "nbformat_minor": 0,
  "metadata": {
    "colab": {
      "provenance": [],
      "authorship_tag": "ABX9TyP9WtIs5kNF1AcjzKAJpGZL",
      "include_colab_link": true
    },
    "kernelspec": {
      "name": "python3",
      "display_name": "Python 3"
    },
    "language_info": {
      "name": "python"
    }
  },
  "cells": [
    {
      "cell_type": "markdown",
      "metadata": {
        "id": "view-in-github",
        "colab_type": "text"
      },
      "source": [
        "<a href=\"https://colab.research.google.com/github/MNaseerAKhan/Basics-of-Python--AI-Python-for-Beginners-by-Andrew-NG/blob/main/Lesson_2_4_Practice.ipynb\" target=\"_parent\"><img src=\"https://colab.research.google.com/assets/colab-badge.svg\" alt=\"Open In Colab\"/></a>"
      ]
    },
    {
      "cell_type": "code",
      "execution_count": 1,
      "metadata": {
        "id": "ivrGFfg895tX",
        "colab": {
          "base_uri": "https://localhost:8080/"
        },
        "outputId": "2babdef8-7678-4d3c-f497-bff4972276d2"
      },
      "outputs": [
        {
          "output_type": "stream",
          "name": "stdout",
          "text": [
            "Hello, World!\n"
          ]
        }
      ],
      "source": [
        "# prompt: print(\"Hello, World!\")\n",
        "\n",
        "print(\"Hello, World!\")\n"
      ]
    },
    {
      "cell_type": "code",
      "source": [
        "# prompt:    Modify the code below to have it say hello to me.\n",
        "#      print(\"Hello, World!\")\n",
        "#      My name is Naseer Khan\n",
        "\n",
        "print(\"Hello, Naseer Khan!\")\n"
      ],
      "metadata": {
        "colab": {
          "base_uri": "https://localhost:8080/"
        },
        "id": "DQbr3Pc__Ct8",
        "outputId": "e762ee45-f9b5-496b-87d9-1b86a69afd92"
      },
      "execution_count": 3,
      "outputs": [
        {
          "output_type": "stream",
          "name": "stdout",
          "text": [
            "Hello, Naseer Khan!\n"
          ]
        }
      ]
    },
    {
      "cell_type": "code",
      "source": [
        "print(\"Hello, Naseer Khan!\")"
      ],
      "metadata": {
        "colab": {
          "base_uri": "https://localhost:8080/"
        },
        "id": "_y6CWBfY_s8D",
        "outputId": "145f457c-e5f9-40dd-e0e6-8be6dfce8dc9"
      },
      "execution_count": 4,
      "outputs": [
        {
          "output_type": "stream",
          "name": "stdout",
          "text": [
            "Hello, Naseer Khan!\n"
          ]
        }
      ]
    },
    {
      "cell_type": "code",
      "source": [
        "print(\"Hello, My Love!\")"
      ],
      "metadata": {
        "colab": {
          "base_uri": "https://localhost:8080/"
        },
        "id": "b4Ao1uCBALY5",
        "outputId": "955998ad-d121-4522-9b97-d6bee98a9ba0"
      },
      "execution_count": 5,
      "outputs": [
        {
          "output_type": "stream",
          "name": "stdout",
          "text": [
            "Hello, My Love!\n"
          ]
        }
      ]
    },
    {
      "cell_type": "code",
      "source": [
        "print(\"This is a print statement!\")"
      ],
      "metadata": {
        "colab": {
          "base_uri": "https://localhost:8080/"
        },
        "id": "hoQp5IAHAhuS",
        "outputId": "dae61a42-e7a1-4e55-a055-478f06d547f2"
      },
      "execution_count": 8,
      "outputs": [
        {
          "output_type": "stream",
          "name": "stdout",
          "text": [
            "This is a print statement!\n"
          ]
        }
      ]
    },
    {
      "cell_type": "code",
      "source": [
        "# print(\"This is a print statement!\")"
      ],
      "metadata": {
        "id": "ETf7NK5DA8Vm"
      },
      "execution_count": 9,
      "outputs": []
    },
    {
      "cell_type": "code",
      "source": [
        "# This is an example of code with multiple\n",
        "# comments, including this one which\n",
        "# spans multiple lines\n",
        "print(\"Hello, Naseer Khan!\")\n",
        "# Follow up with an additional print command\n",
        "print(\"How is your day going?\")"
      ],
      "metadata": {
        "colab": {
          "base_uri": "https://localhost:8080/"
        },
        "id": "MPQxb9cGBIQc",
        "outputId": "c3662bf7-b81c-40d2-ed3a-9e7465dc9a91"
      },
      "execution_count": 10,
      "outputs": [
        {
          "output_type": "stream",
          "name": "stdout",
          "text": [
            "Hello, Naseer Khan!\n",
            "How is your day going?\n"
          ]
        }
      ]
    },
    {
      "cell_type": "code",
      "source": [
        "print(\"Hello, Naseer Khan!)"
      ],
      "metadata": {
        "colab": {
          "base_uri": "https://localhost:8080/",
          "height": 106
        },
        "id": "9bNlk-oWBRIV",
        "outputId": "8599c3a9-55e3-419b-e7bf-f5a4d8727503"
      },
      "execution_count": 12,
      "outputs": [
        {
          "output_type": "error",
          "ename": "SyntaxError",
          "evalue": "unterminated string literal (detected at line 1) (<ipython-input-12-92ac6225b04c>, line 1)",
          "traceback": [
            "\u001b[0;36m  File \u001b[0;32m\"<ipython-input-12-92ac6225b04c>\"\u001b[0;36m, line \u001b[0;32m1\u001b[0m\n\u001b[0;31m    print(\"Hello, Naseer Khan!)\u001b[0m\n\u001b[0m          ^\u001b[0m\n\u001b[0;31mSyntaxError\u001b[0m\u001b[0;31m:\u001b[0m unterminated string literal (detected at line 1)\n"
          ]
        }
      ]
    },
    {
      "cell_type": "code",
      "source": [
        "# prompt: correct the SuntaxError in code written in single previous cell\n",
        "\n",
        "print(\"Hello, World!\")\n",
        "\n",
        "\n",
        "print(\"Hello, Naseer Khan!\")\n",
        "\n",
        "print(\"Hello, Naseer Khan!\")\n",
        "print(\"Hello, My Love!\")\n",
        "print(\"This is a print statement!\")\n",
        "# print(\"This is a print statement!\")\n",
        "# This is an example of code with multiple\n",
        "# comments, including this one which\n",
        "# spans multiple lines\n",
        "print(\"Hello, Naseer Khan!\")\n",
        "# Follow up with an additional print command\n",
        "print(\"How is your day going?\")\n",
        "print(\"Hello, Naseer Khan!\")"
      ],
      "metadata": {
        "colab": {
          "base_uri": "https://localhost:8080/"
        },
        "id": "uvlxYIp8BW0F",
        "outputId": "ad412860-7262-4afb-a1b7-24b9f73994bd"
      },
      "execution_count": 13,
      "outputs": [
        {
          "output_type": "stream",
          "name": "stdout",
          "text": [
            "Hello, World!\n",
            "Hello, Naseer Khan!\n",
            "Hello, Naseer Khan!\n",
            "Hello, My Love!\n",
            "This is a print statement!\n",
            "Hello, Naseer Khan!\n",
            "How is your day going?\n",
            "Hello, Naseer Khan!\n"
          ]
        }
      ]
    },
    {
      "cell_type": "code",
      "source": [
        "# Edit the code on the next line to correct the error\n",
        "print(\"Hello, Naseer Khan!\")"
      ],
      "metadata": {
        "colab": {
          "base_uri": "https://localhost:8080/"
        },
        "id": "ikdoHIYBCNgf",
        "outputId": "8b616031-b4c7-4202-f133-c1523c12748d"
      },
      "execution_count": 15,
      "outputs": [
        {
          "output_type": "stream",
          "name": "stdout",
          "text": [
            "Hello, Naseer Khan!\n"
          ]
        }
      ]
    },
    {
      "cell_type": "code",
      "source": [
        "# Write code that displays your favorite color\n",
        "print(\"My favorite color is Green!\")"
      ],
      "metadata": {
        "colab": {
          "base_uri": "https://localhost:8080/"
        },
        "id": "h6oCsulKCRE1",
        "outputId": "c8ae5686-de46-47e8-f9ca-b10948ac4779"
      },
      "execution_count": 16,
      "outputs": [
        {
          "output_type": "stream",
          "name": "stdout",
          "text": [
            "My favorite color is Green!\n"
          ]
        }
      ]
    },
    {
      "cell_type": "code",
      "source": [
        "# Write code that answers the question \"How are you feeling today?\"\n",
        "print(\"I am feeling good today!\")"
      ],
      "metadata": {
        "colab": {
          "base_uri": "https://localhost:8080/"
        },
        "id": "f4HwfUDPCk_Y",
        "outputId": "f7594d4f-d848-43e5-e663-5f429618f2ae"
      },
      "execution_count": 18,
      "outputs": [
        {
          "output_type": "stream",
          "name": "stdout",
          "text": [
            "I am feeling good today!\n"
          ]
        }
      ]
    },
    {
      "cell_type": "code",
      "source": [
        "print(\"I am feeling good today!)"
      ],
      "metadata": {
        "colab": {
          "base_uri": "https://localhost:8080/",
          "height": 106
        },
        "id": "dF4zt5FpCqjN",
        "outputId": "52517400-8fb3-4e4d-e25e-d4a9492a0d9d"
      },
      "execution_count": 19,
      "outputs": [
        {
          "output_type": "error",
          "ename": "SyntaxError",
          "evalue": "unterminated string literal (detected at line 1) (<ipython-input-19-bb8c89817f8a>, line 1)",
          "traceback": [
            "\u001b[0;36m  File \u001b[0;32m\"<ipython-input-19-bb8c89817f8a>\"\u001b[0;36m, line \u001b[0;32m1\u001b[0m\n\u001b[0;31m    print(\"I am feeling good today!)\u001b[0m\n\u001b[0m          ^\u001b[0m\n\u001b[0;31mSyntaxError\u001b[0m\u001b[0;31m:\u001b[0m unterminated string literal (detected at line 1)\n"
          ]
        }
      ]
    },
    {
      "cell_type": "code",
      "source": [
        "# prompt: # fix this code    print(\"I am feeling good today!)\n",
        "\n",
        "print(\"I am feeling good today!\")\n"
      ],
      "metadata": {
        "colab": {
          "base_uri": "https://localhost:8080/"
        },
        "id": "H660H_K3C0g5",
        "outputId": "f64cac60-8bff-48bb-dbf4-a1d924ec1410"
      },
      "execution_count": 21,
      "outputs": [
        {
          "output_type": "stream",
          "name": "stdout",
          "text": [
            "I am feeling good today!\n"
          ]
        }
      ]
    },
    {
      "cell_type": "code",
      "source": [
        "# prompt: Write some code to calculate how many days there are between New year January 1st and my birthday November 20th, say in a non leap year?\n",
        "\n",
        "import datetime\n",
        "\n",
        "# Define the dates\n",
        "new_year = datetime.date(2023, 1, 1)\n",
        "birthday = datetime.date(2023, 11, 20)\n",
        "\n",
        "# Calculate the difference\n",
        "delta = birthday - new_year\n",
        "\n",
        "# Print the number of days\n",
        "print(f\"There are {delta.days} days between January 1st and November 20th.\")\n"
      ],
      "metadata": {
        "colab": {
          "base_uri": "https://localhost:8080/"
        },
        "id": "L9T0JccNDZWH",
        "outputId": "8c8321b4-cb30-4403-8564-d8388d683684"
      },
      "execution_count": 24,
      "outputs": [
        {
          "output_type": "stream",
          "name": "stdout",
          "text": [
            "There are 323 days between January 1st and November 20th.\n"
          ]
        }
      ]
    },
    {
      "cell_type": "code",
      "source": [],
      "metadata": {
        "id": "3xX9iL0aOaP6"
      },
      "execution_count": null,
      "outputs": []
    }
  ]
}